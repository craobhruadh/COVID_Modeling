{
 "cells": [
  {
   "cell_type": "code",
   "execution_count": 1,
   "id": "45c757c6-7440-4bba-8eaa-bfc36c0761cc",
   "metadata": {},
   "outputs": [],
   "source": [
    "from models.SEIRS_model import SEIRS_parameters"
   ]
  },
  {
   "cell_type": "code",
   "execution_count": 2,
   "id": "52105433-193f-47ff-8530-f9a6be747830",
   "metadata": {},
   "outputs": [
    {
     "ename": "TypeError",
     "evalue": "__init__() missing 1 required positional argument: 'population'",
     "output_type": "error",
     "traceback": [
      "\u001b[0;31m---------------------------------------------------------------------------\u001b[0m",
      "\u001b[0;31mTypeError\u001b[0m                                 Traceback (most recent call last)",
      "\u001b[0;32m/var/folders/3w/6q32t1s12pj2t55z6kkp1drr0000gn/T/ipykernel_55937/3286669473.py\u001b[0m in \u001b[0;36m<module>\u001b[0;34m\u001b[0m\n\u001b[0;32m----> 1\u001b[0;31m \u001b[0mparams\u001b[0m \u001b[0;34m=\u001b[0m \u001b[0mSEIRS_parameters\u001b[0m\u001b[0;34m(\u001b[0m\u001b[0;34m)\u001b[0m\u001b[0;34m\u001b[0m\u001b[0;34m\u001b[0m\u001b[0m\n\u001b[0m",
      "\u001b[0;31mTypeError\u001b[0m: __init__() missing 1 required positional argument: 'population'"
     ]
    }
   ],
   "source": [
    "params = SEIRS_parameters(population=12)"
   ]
  },
  {
   "cell_type": "code",
   "execution_count": null,
   "id": "8f49ef8e-a6a4-45d2-bbc7-49aa4b5adc38",
   "metadata": {},
   "outputs": [],
   "source": [
    "SEIRS_parameters()"
   ]
  },
  {
   "cell_type": "code",
   "execution_count": 4,
   "id": "a8ebef96-1793-4212-942e-93ff60f141ea",
   "metadata": {},
   "outputs": [
    {
     "data": {
      "text/plain": [
       "0.75"
      ]
     },
     "execution_count": 4,
     "metadata": {},
     "output_type": "execute_result"
    }
   ],
   "source": [
    "int(3) /int(4)"
   ]
  },
  {
   "cell_type": "code",
   "execution_count": null,
   "id": "e8314c38-05de-4457-a247-bbbe8438e819",
   "metadata": {},
   "outputs": [],
   "source": []
  }
 ],
 "metadata": {
  "kernelspec": {
   "display_name": "Python 3 (ipykernel)",
   "language": "python",
   "name": "python3"
  },
  "language_info": {
   "codemirror_mode": {
    "name": "ipython",
    "version": 3
   },
   "file_extension": ".py",
   "mimetype": "text/x-python",
   "name": "python",
   "nbconvert_exporter": "python",
   "pygments_lexer": "ipython3",
   "version": "3.9.7"
  }
 },
 "nbformat": 4,
 "nbformat_minor": 5
}
